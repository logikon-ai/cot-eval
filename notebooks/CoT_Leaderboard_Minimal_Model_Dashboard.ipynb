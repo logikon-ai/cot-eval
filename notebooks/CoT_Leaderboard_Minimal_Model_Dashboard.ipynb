{
  "cells": [
    {
      "cell_type": "markdown",
      "metadata": {
        "id": "view-in-github",
        "colab_type": "text"
      },
      "source": [
        "<a href=\"https://colab.research.google.com/github/logikon-ai/cot-eval/blob/main/notebooks/CoT_Leaderboard_Minimal_Model_Dashboard.ipynb\" target=\"_parent\"><img src=\"https://colab.research.google.com/assets/colab-badge.svg\" alt=\"Open In Colab\"/></a>"
      ]
    },
    {
      "cell_type": "markdown",
      "metadata": {
        "id": "Hd5c67BpUT9u"
      },
      "source": [
        "# Minimal Model Dashboard -- Exploring the `AI2`&`/\\/` Open CoT Leaderboard Results"
      ]
    },
    {
      "cell_type": "markdown",
      "metadata": {
        "id": "OwAHQ0cfUqdf"
      },
      "source": [
        "### Init"
      ]
    },
    {
      "cell_type": "code",
      "execution_count": null,
      "metadata": {
        "id": "mcKXJpqCuqrh"
      },
      "outputs": [],
      "source": [
        "%pip install -Uq datasets huggingface_hub seaborn"
      ]
    },
    {
      "cell_type": "code",
      "execution_count": null,
      "metadata": {
        "id": "gmkjWzNNvxLV"
      },
      "outputs": [],
      "source": [
        "EVAL_DATASET = \"cot-leaderboard/cot-eval-results\"\n",
        "LOCAL_DIR = \"cot-eval-results\"\n",
        "SUBSETS = [\"base\",\"cot\",\"orig\"]"
      ]
    },
    {
      "cell_type": "code",
      "execution_count": null,
      "metadata": {
        "id": "8BwHDAjmuakL"
      },
      "outputs": [],
      "source": [
        "import getpass\n",
        "from huggingface_hub import HfApi, login\n",
        "\n",
        "HF_TOKEN = getpass.getpass(\"HF Token:\")\n",
        "API = HfApi(token=HF_TOKEN)\n",
        "login(HF_TOKEN, add_to_git_credential=True)"
      ]
    },
    {
      "cell_type": "markdown",
      "metadata": {
        "id": "Zursl-ZPBSIT"
      },
      "source": [
        "### Load evaluation results"
      ]
    },
    {
      "cell_type": "code",
      "execution_count": null,
      "metadata": {
        "id": "pLMWT9dcvSYf"
      },
      "outputs": [],
      "source": [
        "from huggingface_hub import snapshot_download\n",
        "\n",
        "snapshot_download(\n",
        "    repo_id=EVAL_DATASET,\n",
        "    revision=\"main\",\n",
        "    local_dir=LOCAL_DIR,\n",
        "    repo_type=\"dataset\",\n",
        "    max_workers=60,\n",
        "    token=HF_TOKEN\n",
        ")\n"
      ]
    },
    {
      "cell_type": "code",
      "execution_count": null,
      "metadata": {
        "colab": {
          "base_uri": "https://localhost:8080/"
        },
        "id": "5HR7metwv32L",
        "outputId": "8333dc99-39e6-4f22-ca33-5da03dcff198"
      },
      "outputs": [
        {
          "output_type": "execute_result",
          "data": {
            "text/plain": [
              "['01-ai/Yi-6B',\n",
              " '01-ai/Yi-34B',\n",
              " 'Deci/DeciLM-7B',\n",
              " 'Deci/DeciLM-7B-instruct',\n",
              " 'google/gemma-2b',\n",
              " 'google/gemma-2b-it',\n",
              " 'google/gemma-7b-it',\n",
              " 'databricks/dolly-v2-3b',\n",
              " 'mistralai/Mixtral-8x7B-Instruct-v0.1',\n",
              " 'mistralai/Mistral-7B-Instruct-v0.2',\n",
              " 'mistralai/Mistral-7B-v0.1',\n",
              " 'mistralai/Mixtral-8x7B-v0.1',\n",
              " 'OpenBuddy/openbuddy-mistral2-7b-v20.2-32k',\n",
              " 'meta-llama/Llama-2-13b-hf',\n",
              " 'meta-llama/Llama-2-70b-chat-hf',\n",
              " 'meta-llama/Llama-2-13b-chat-hf',\n",
              " 'meta-llama/Llama-2-70b-hf',\n",
              " 'meta-llama/Llama-2-7b-hf',\n",
              " 'allenai/tulu-2-7b',\n",
              " 'allenai/tulu-2-70b',\n",
              " 'allenai/tulu-2-dpo-13b',\n",
              " 'allenai/tulu-2-13b',\n",
              " 'allenai/tulu-2-dpo-70b',\n",
              " 'allenai/tulu-2-dpo-7b',\n",
              " 'ichigoberry/pandafish-2-7b-32k',\n",
              " 'openbmb/Eurus-70b-sft',\n",
              " 'openbmb/Eurus-7b-kto',\n",
              " 'microsoft/Orca-2-7b',\n",
              " 'microsoft/Orca-2-13b',\n",
              " 'microsoft/phi-2',\n",
              " 'bunnycore/Mnemosyne-7B',\n",
              " 'mlabonne/AlphaMonarch-7B',\n",
              " 'Locutusque/Hercules-4.0-Mistral-v0.2-7B',\n",
              " 'Locutusque/OpenCerebrum-1.0-7b-DPO',\n",
              " 'upstage/SOLAR-10.7B-v1.0',\n",
              " 'upstage/SOLAR-10.7B-Instruct-v1.0',\n",
              " 'openchat/openchat-3.5-0106',\n",
              " 'HuggingFaceH4/zephyr-7b-beta',\n",
              " 'teknium/OpenHermes-2.5-Mistral-7B',\n",
              " 'NousResearch/Nous-Hermes-llama-2-7b',\n",
              " 'NousResearch/Hermes-2-Pro-Mistral-7B',\n",
              " 'Intel/neural-chat-7b-v3-1']"
            ]
          },
          "metadata": {},
          "execution_count": 4
        }
      ],
      "source": [
        "# get all models for which results are stored\n",
        "import glob\n",
        "\n",
        "models = []\n",
        "for path in glob.glob(f\"{LOCAL_DIR}/data/*/*\", recursive=False):\n",
        "  models.append(path.replace(f\"{LOCAL_DIR}/data/\",\"\"))\n",
        "models"
      ]
    },
    {
      "cell_type": "markdown",
      "source": [
        "### Cast and postprocess evaluation results"
      ],
      "metadata": {
        "id": "bsns3zBOblVm"
      }
    },
    {
      "cell_type": "code",
      "execution_count": null,
      "metadata": {
        "id": "EabOrJoGwHwL"
      },
      "outputs": [],
      "source": [
        "import json\n",
        "\n",
        "import pandas as pd\n",
        "\n",
        "results = []\n",
        "\n",
        "for model in models:\n",
        "    for subset in SUBSETS:\n",
        "        result_files = glob.glob(f\"{LOCAL_DIR}/data/{model}/{subset}/**/*.json\", recursive=True)\n",
        "        for json_filepath in result_files:\n",
        "            with open(json_filepath) as fp:\n",
        "                data = json.load(fp)\n",
        "            if \"results\" in data.keys():\n",
        "                for k,v in data[\"results\"].items():\n",
        "                    record = v.copy()\n",
        "                    record[\"model\"] = model\n",
        "                    record[\"subset\"] = subset\n",
        "                    results.append(record)\n",
        "\n",
        "df_results = pd.DataFrame(results)\n",
        "del results"
      ]
    },
    {
      "cell_type": "code",
      "execution_count": null,
      "metadata": {
        "id": "zpiCxWV61y0X"
      },
      "outputs": [],
      "source": [
        "def split_alias(alias: str) -> pd.Series:\n",
        "    if alias[-5:]==\"_base\":\n",
        "        alias = alias[:-5]\n",
        "    elif alias[-4:]==\"_cot\":\n",
        "        alias = alias[:-4]\n",
        "\n",
        "    if \"_\" not in alias:\n",
        "        task = alias\n",
        "        config = \"\"\n",
        "    else:\n",
        "        config, task = alias.split(\"_\")\n",
        "\n",
        "    return pd.Series({\"task\": task, \"config\": config})\n",
        "\n",
        "df_results = pd.concat([df_results, df_results.alias.apply(split_alias)], axis=1)"
      ]
    },
    {
      "cell_type": "code",
      "execution_count": null,
      "metadata": {
        "id": "4KyK7-wI1_XE"
      },
      "outputs": [],
      "source": [
        "df_results.head()"
      ]
    },
    {
      "cell_type": "code",
      "execution_count": null,
      "metadata": {
        "id": "JHIeuZGH6Do-"
      },
      "outputs": [],
      "source": [
        "df_baseline = df_results[df_results.subset.eq(\"base\")].groupby([\"model\",\"task\"])[[\"acc,none\"]].mean()\n",
        "df_baseline.head()"
      ]
    },
    {
      "cell_type": "code",
      "execution_count": null,
      "metadata": {
        "id": "myUdd5vC5ndI"
      },
      "outputs": [],
      "source": [
        "df_tmp1 = df_results[df_results.subset.eq(\"cot\")].sort_values(by=[\"model\",\"task\",\"config\"])\n",
        "\n",
        "df_tmp1.reset_index(inplace=True, drop=True)\n",
        "\n",
        "df_cot = df_tmp1[[\"model\",\"task\",\"config\"]].copy()\n",
        "df_cot[\"acc_cot\"] = df_tmp1[\"acc,none\"]\n",
        "df_cot[\"acc_base\"] = df_cot.apply(lambda row: df_baseline.loc[(row.model, row.task)][\"acc,none\"], axis=1)\n",
        "\n",
        "df_cot[\"delta_abs\"] = df_cot.acc_cot - df_cot.acc_base\n",
        "df_cot[\"delta_rel\"] = (df_cot.acc_cot - df_cot.acc_base)/df_cot.acc_base\n"
      ]
    },
    {
      "cell_type": "code",
      "execution_count": null,
      "metadata": {
        "colab": {
          "base_uri": "https://localhost:8080/",
          "height": 206
        },
        "id": "59xQx-Ew8iic",
        "outputId": "12dd8ef7-a657-4f26-e46c-01336d593323"
      },
      "outputs": [
        {
          "output_type": "execute_result",
          "data": {
            "text/plain": [
              "          model    task                  config   acc_cot  acc_base  \\\n",
              "0  01-ai/Yi-34B  logiqa  aperiam-occaecati-4745  0.386581  0.364217   \n",
              "1  01-ai/Yi-34B  logiqa     commodi-veniam-6116  0.392971  0.364217   \n",
              "2  01-ai/Yi-34B  logiqa             in-vel-1414  0.404153  0.364217   \n",
              "3  01-ai/Yi-34B  logiqa     iusto-eligendi-7879  0.405751  0.364217   \n",
              "4  01-ai/Yi-34B  logiqa         minus-ipsa-5184  0.383387  0.364217   \n",
              "\n",
              "   delta_abs  delta_rel  \n",
              "0   0.022364   0.061404  \n",
              "1   0.028754   0.078947  \n",
              "2   0.039936   0.109649  \n",
              "3   0.041534   0.114035  \n",
              "4   0.019169   0.052632  "
            ],
            "text/html": [
              "\n",
              "  <div id=\"df-755b2ead-d792-42e4-b463-b81d3c178918\" class=\"colab-df-container\">\n",
              "    <div>\n",
              "<style scoped>\n",
              "    .dataframe tbody tr th:only-of-type {\n",
              "        vertical-align: middle;\n",
              "    }\n",
              "\n",
              "    .dataframe tbody tr th {\n",
              "        vertical-align: top;\n",
              "    }\n",
              "\n",
              "    .dataframe thead th {\n",
              "        text-align: right;\n",
              "    }\n",
              "</style>\n",
              "<table border=\"1\" class=\"dataframe\">\n",
              "  <thead>\n",
              "    <tr style=\"text-align: right;\">\n",
              "      <th></th>\n",
              "      <th>model</th>\n",
              "      <th>task</th>\n",
              "      <th>config</th>\n",
              "      <th>acc_cot</th>\n",
              "      <th>acc_base</th>\n",
              "      <th>delta_abs</th>\n",
              "      <th>delta_rel</th>\n",
              "    </tr>\n",
              "  </thead>\n",
              "  <tbody>\n",
              "    <tr>\n",
              "      <th>0</th>\n",
              "      <td>01-ai/Yi-34B</td>\n",
              "      <td>logiqa</td>\n",
              "      <td>aperiam-occaecati-4745</td>\n",
              "      <td>0.386581</td>\n",
              "      <td>0.364217</td>\n",
              "      <td>0.022364</td>\n",
              "      <td>0.061404</td>\n",
              "    </tr>\n",
              "    <tr>\n",
              "      <th>1</th>\n",
              "      <td>01-ai/Yi-34B</td>\n",
              "      <td>logiqa</td>\n",
              "      <td>commodi-veniam-6116</td>\n",
              "      <td>0.392971</td>\n",
              "      <td>0.364217</td>\n",
              "      <td>0.028754</td>\n",
              "      <td>0.078947</td>\n",
              "    </tr>\n",
              "    <tr>\n",
              "      <th>2</th>\n",
              "      <td>01-ai/Yi-34B</td>\n",
              "      <td>logiqa</td>\n",
              "      <td>in-vel-1414</td>\n",
              "      <td>0.404153</td>\n",
              "      <td>0.364217</td>\n",
              "      <td>0.039936</td>\n",
              "      <td>0.109649</td>\n",
              "    </tr>\n",
              "    <tr>\n",
              "      <th>3</th>\n",
              "      <td>01-ai/Yi-34B</td>\n",
              "      <td>logiqa</td>\n",
              "      <td>iusto-eligendi-7879</td>\n",
              "      <td>0.405751</td>\n",
              "      <td>0.364217</td>\n",
              "      <td>0.041534</td>\n",
              "      <td>0.114035</td>\n",
              "    </tr>\n",
              "    <tr>\n",
              "      <th>4</th>\n",
              "      <td>01-ai/Yi-34B</td>\n",
              "      <td>logiqa</td>\n",
              "      <td>minus-ipsa-5184</td>\n",
              "      <td>0.383387</td>\n",
              "      <td>0.364217</td>\n",
              "      <td>0.019169</td>\n",
              "      <td>0.052632</td>\n",
              "    </tr>\n",
              "  </tbody>\n",
              "</table>\n",
              "</div>\n",
              "    <div class=\"colab-df-buttons\">\n",
              "\n",
              "  <div class=\"colab-df-container\">\n",
              "    <button class=\"colab-df-convert\" onclick=\"convertToInteractive('df-755b2ead-d792-42e4-b463-b81d3c178918')\"\n",
              "            title=\"Convert this dataframe to an interactive table.\"\n",
              "            style=\"display:none;\">\n",
              "\n",
              "  <svg xmlns=\"http://www.w3.org/2000/svg\" height=\"24px\" viewBox=\"0 -960 960 960\">\n",
              "    <path d=\"M120-120v-720h720v720H120Zm60-500h600v-160H180v160Zm220 220h160v-160H400v160Zm0 220h160v-160H400v160ZM180-400h160v-160H180v160Zm440 0h160v-160H620v160ZM180-180h160v-160H180v160Zm440 0h160v-160H620v160Z\"/>\n",
              "  </svg>\n",
              "    </button>\n",
              "\n",
              "  <style>\n",
              "    .colab-df-container {\n",
              "      display:flex;\n",
              "      gap: 12px;\n",
              "    }\n",
              "\n",
              "    .colab-df-convert {\n",
              "      background-color: #E8F0FE;\n",
              "      border: none;\n",
              "      border-radius: 50%;\n",
              "      cursor: pointer;\n",
              "      display: none;\n",
              "      fill: #1967D2;\n",
              "      height: 32px;\n",
              "      padding: 0 0 0 0;\n",
              "      width: 32px;\n",
              "    }\n",
              "\n",
              "    .colab-df-convert:hover {\n",
              "      background-color: #E2EBFA;\n",
              "      box-shadow: 0px 1px 2px rgba(60, 64, 67, 0.3), 0px 1px 3px 1px rgba(60, 64, 67, 0.15);\n",
              "      fill: #174EA6;\n",
              "    }\n",
              "\n",
              "    .colab-df-buttons div {\n",
              "      margin-bottom: 4px;\n",
              "    }\n",
              "\n",
              "    [theme=dark] .colab-df-convert {\n",
              "      background-color: #3B4455;\n",
              "      fill: #D2E3FC;\n",
              "    }\n",
              "\n",
              "    [theme=dark] .colab-df-convert:hover {\n",
              "      background-color: #434B5C;\n",
              "      box-shadow: 0px 1px 3px 1px rgba(0, 0, 0, 0.15);\n",
              "      filter: drop-shadow(0px 1px 2px rgba(0, 0, 0, 0.3));\n",
              "      fill: #FFFFFF;\n",
              "    }\n",
              "  </style>\n",
              "\n",
              "    <script>\n",
              "      const buttonEl =\n",
              "        document.querySelector('#df-755b2ead-d792-42e4-b463-b81d3c178918 button.colab-df-convert');\n",
              "      buttonEl.style.display =\n",
              "        google.colab.kernel.accessAllowed ? 'block' : 'none';\n",
              "\n",
              "      async function convertToInteractive(key) {\n",
              "        const element = document.querySelector('#df-755b2ead-d792-42e4-b463-b81d3c178918');\n",
              "        const dataTable =\n",
              "          await google.colab.kernel.invokeFunction('convertToInteractive',\n",
              "                                                    [key], {});\n",
              "        if (!dataTable) return;\n",
              "\n",
              "        const docLinkHtml = 'Like what you see? Visit the ' +\n",
              "          '<a target=\"_blank\" href=https://colab.research.google.com/notebooks/data_table.ipynb>data table notebook</a>'\n",
              "          + ' to learn more about interactive tables.';\n",
              "        element.innerHTML = '';\n",
              "        dataTable['output_type'] = 'display_data';\n",
              "        await google.colab.output.renderOutput(dataTable, element);\n",
              "        const docLink = document.createElement('div');\n",
              "        docLink.innerHTML = docLinkHtml;\n",
              "        element.appendChild(docLink);\n",
              "      }\n",
              "    </script>\n",
              "  </div>\n",
              "\n",
              "\n",
              "<div id=\"df-20dba12b-7543-4d56-b90e-9c80cba7e115\">\n",
              "  <button class=\"colab-df-quickchart\" onclick=\"quickchart('df-20dba12b-7543-4d56-b90e-9c80cba7e115')\"\n",
              "            title=\"Suggest charts\"\n",
              "            style=\"display:none;\">\n",
              "\n",
              "<svg xmlns=\"http://www.w3.org/2000/svg\" height=\"24px\"viewBox=\"0 0 24 24\"\n",
              "     width=\"24px\">\n",
              "    <g>\n",
              "        <path d=\"M19 3H5c-1.1 0-2 .9-2 2v14c0 1.1.9 2 2 2h14c1.1 0 2-.9 2-2V5c0-1.1-.9-2-2-2zM9 17H7v-7h2v7zm4 0h-2V7h2v10zm4 0h-2v-4h2v4z\"/>\n",
              "    </g>\n",
              "</svg>\n",
              "  </button>\n",
              "\n",
              "<style>\n",
              "  .colab-df-quickchart {\n",
              "      --bg-color: #E8F0FE;\n",
              "      --fill-color: #1967D2;\n",
              "      --hover-bg-color: #E2EBFA;\n",
              "      --hover-fill-color: #174EA6;\n",
              "      --disabled-fill-color: #AAA;\n",
              "      --disabled-bg-color: #DDD;\n",
              "  }\n",
              "\n",
              "  [theme=dark] .colab-df-quickchart {\n",
              "      --bg-color: #3B4455;\n",
              "      --fill-color: #D2E3FC;\n",
              "      --hover-bg-color: #434B5C;\n",
              "      --hover-fill-color: #FFFFFF;\n",
              "      --disabled-bg-color: #3B4455;\n",
              "      --disabled-fill-color: #666;\n",
              "  }\n",
              "\n",
              "  .colab-df-quickchart {\n",
              "    background-color: var(--bg-color);\n",
              "    border: none;\n",
              "    border-radius: 50%;\n",
              "    cursor: pointer;\n",
              "    display: none;\n",
              "    fill: var(--fill-color);\n",
              "    height: 32px;\n",
              "    padding: 0;\n",
              "    width: 32px;\n",
              "  }\n",
              "\n",
              "  .colab-df-quickchart:hover {\n",
              "    background-color: var(--hover-bg-color);\n",
              "    box-shadow: 0 1px 2px rgba(60, 64, 67, 0.3), 0 1px 3px 1px rgba(60, 64, 67, 0.15);\n",
              "    fill: var(--button-hover-fill-color);\n",
              "  }\n",
              "\n",
              "  .colab-df-quickchart-complete:disabled,\n",
              "  .colab-df-quickchart-complete:disabled:hover {\n",
              "    background-color: var(--disabled-bg-color);\n",
              "    fill: var(--disabled-fill-color);\n",
              "    box-shadow: none;\n",
              "  }\n",
              "\n",
              "  .colab-df-spinner {\n",
              "    border: 2px solid var(--fill-color);\n",
              "    border-color: transparent;\n",
              "    border-bottom-color: var(--fill-color);\n",
              "    animation:\n",
              "      spin 1s steps(1) infinite;\n",
              "  }\n",
              "\n",
              "  @keyframes spin {\n",
              "    0% {\n",
              "      border-color: transparent;\n",
              "      border-bottom-color: var(--fill-color);\n",
              "      border-left-color: var(--fill-color);\n",
              "    }\n",
              "    20% {\n",
              "      border-color: transparent;\n",
              "      border-left-color: var(--fill-color);\n",
              "      border-top-color: var(--fill-color);\n",
              "    }\n",
              "    30% {\n",
              "      border-color: transparent;\n",
              "      border-left-color: var(--fill-color);\n",
              "      border-top-color: var(--fill-color);\n",
              "      border-right-color: var(--fill-color);\n",
              "    }\n",
              "    40% {\n",
              "      border-color: transparent;\n",
              "      border-right-color: var(--fill-color);\n",
              "      border-top-color: var(--fill-color);\n",
              "    }\n",
              "    60% {\n",
              "      border-color: transparent;\n",
              "      border-right-color: var(--fill-color);\n",
              "    }\n",
              "    80% {\n",
              "      border-color: transparent;\n",
              "      border-right-color: var(--fill-color);\n",
              "      border-bottom-color: var(--fill-color);\n",
              "    }\n",
              "    90% {\n",
              "      border-color: transparent;\n",
              "      border-bottom-color: var(--fill-color);\n",
              "    }\n",
              "  }\n",
              "</style>\n",
              "\n",
              "  <script>\n",
              "    async function quickchart(key) {\n",
              "      const quickchartButtonEl =\n",
              "        document.querySelector('#' + key + ' button');\n",
              "      quickchartButtonEl.disabled = true;  // To prevent multiple clicks.\n",
              "      quickchartButtonEl.classList.add('colab-df-spinner');\n",
              "      try {\n",
              "        const charts = await google.colab.kernel.invokeFunction(\n",
              "            'suggestCharts', [key], {});\n",
              "      } catch (error) {\n",
              "        console.error('Error during call to suggestCharts:', error);\n",
              "      }\n",
              "      quickchartButtonEl.classList.remove('colab-df-spinner');\n",
              "      quickchartButtonEl.classList.add('colab-df-quickchart-complete');\n",
              "    }\n",
              "    (() => {\n",
              "      let quickchartButtonEl =\n",
              "        document.querySelector('#df-20dba12b-7543-4d56-b90e-9c80cba7e115 button');\n",
              "      quickchartButtonEl.style.display =\n",
              "        google.colab.kernel.accessAllowed ? 'block' : 'none';\n",
              "    })();\n",
              "  </script>\n",
              "</div>\n",
              "    </div>\n",
              "  </div>\n"
            ],
            "application/vnd.google.colaboratory.intrinsic+json": {
              "type": "dataframe",
              "variable_name": "df_cot",
              "summary": "{\n  \"name\": \"df_cot\",\n  \"rows\": 1260,\n  \"fields\": [\n    {\n      \"column\": \"model\",\n      \"properties\": {\n        \"dtype\": \"category\",\n        \"num_unique_values\": 42,\n        \"samples\": [\n          \"meta-llama/Llama-2-70b-chat-hf\",\n          \"allenai/tulu-2-7b\",\n          \"NousResearch/Hermes-2-Pro-Mistral-7B\"\n        ],\n        \"semantic_type\": \"\",\n        \"description\": \"\"\n      }\n    },\n    {\n      \"column\": \"task\",\n      \"properties\": {\n        \"dtype\": \"category\",\n        \"num_unique_values\": 5,\n        \"samples\": [\n          \"logiqa2\",\n          \"lsat-rc\",\n          \"lsat-ar\"\n        ],\n        \"semantic_type\": \"\",\n        \"description\": \"\"\n      }\n    },\n    {\n      \"column\": \"config\",\n      \"properties\": {\n        \"dtype\": \"category\",\n        \"num_unique_values\": 252,\n        \"samples\": [\n          \"omnis-accusantium\",\n          \"accusantium-inventore\",\n          \"maiores-veritatis-3284\"\n        ],\n        \"semantic_type\": \"\",\n        \"description\": \"\"\n      }\n    },\n    {\n      \"column\": \"acc_cot\",\n      \"properties\": {\n        \"dtype\": \"number\",\n        \"std\": 0.10109443896225853,\n        \"min\": 0.14782608695652175,\n        \"max\": 0.7211895910780669,\n        \"num_unique_values\": 545,\n        \"samples\": [\n          0.5204460966542751,\n          0.3306709265175719,\n          0.22941176470588234\n        ],\n        \"semantic_type\": \"\",\n        \"description\": \"\"\n      }\n    },\n    {\n      \"column\": \"acc_base\",\n      \"properties\": {\n        \"dtype\": \"number\",\n        \"std\": 0.08202077680163128,\n        \"min\": 0.17472118959107807,\n        \"max\": 0.5836431226765799,\n        \"num_unique_values\": 173,\n        \"samples\": [\n          0.4349442379182156,\n          0.3333333333333333,\n          0.26677316293929715\n        ],\n        \"semantic_type\": \"\",\n        \"description\": \"\"\n      }\n    },\n    {\n      \"column\": \"delta_abs\",\n      \"properties\": {\n        \"dtype\": \"number\",\n        \"std\": 0.04395272003947656,\n        \"min\": -0.07434944237918217,\n        \"max\": 0.22304832713754646,\n        \"num_unique_values\": 724,\n        \"samples\": [\n          0.01884057971014494,\n          -0.014492753623188442,\n          0.07061068702290074\n        ],\n        \"semantic_type\": \"\",\n        \"description\": \"\"\n      }\n    },\n    {\n      \"column\": \"delta_rel\",\n      \"properties\": {\n        \"dtype\": \"number\",\n        \"std\": 0.14642221132473057,\n        \"min\": -0.31999999999999995,\n        \"max\": 0.9833333333333333,\n        \"num_unique_values\": 1082,\n        \"samples\": [\n          -0.023653462524935776,\n          0.052837573385518595,\n          0.15151515151515155\n        ],\n        \"semantic_type\": \"\",\n        \"description\": \"\"\n      }\n    }\n  ]\n}"
            }
          },
          "metadata": {},
          "execution_count": 10
        }
      ],
      "source": [
        "df_cot.head()"
      ]
    },
    {
      "cell_type": "code",
      "source": [
        "df_cot_avg = df_cot.groupby([\"model\",\"config\"]).mean(numeric_only=True).reset_index()\n",
        "df_cot_avg.head()"
      ],
      "metadata": {
        "id": "n49Lj9XZJHS9"
      },
      "execution_count": null,
      "outputs": []
    },
    {
      "cell_type": "markdown",
      "source": [
        "### Interactive visualization"
      ],
      "metadata": {
        "id": "51KGUiN3btCC"
      }
    },
    {
      "cell_type": "code",
      "source": [
        "import ipywidgets as widgets\n",
        "\n",
        "from IPython.display import Markdown\n",
        "import seaborn as sns\n",
        "\n",
        "def plot_avg_acc(selected_model):\n",
        "  df_cot_emph = df_cot_avg.copy()\n",
        "  df_cot_emph[\"selected\"] = df_cot_emph[\"model\"].apply(lambda x: selected_model if x==selected_model else \"others\")\n",
        "  G = sns.relplot(\n",
        "      df_cot_emph,\n",
        "      x=\"acc_base\",\n",
        "      y=\"delta_abs\",\n",
        "      hue=\"selected\",\n",
        "      hue_order=[\"others\", selected_model],\n",
        "      style=\"selected\",\n",
        "      markers=[\"X\",\"o\"],\n",
        "  )\n",
        "\n",
        "w = widgets.Dropdown(options=models, value=models[0])\n",
        "\n",
        "display(Markdown(\"Choose model to highlight and evaluate cell below.\"))\n",
        "display(w)"
      ],
      "metadata": {
        "id": "WFw4I7TLZ9OX",
        "outputId": "9a84093e-e7a8-4228-dfbb-e9fb4b10bc6f",
        "colab": {
          "base_uri": "https://localhost:8080/",
          "height": 76,
          "referenced_widgets": [
            "6d5c475a8f5f4f65be4b496ba76f18a0",
            "a6a5b48409a749dea195cf6e9500f3af",
            "e2448a00bd0b4fb2beaf342bb88b0f6a"
          ]
        }
      },
      "execution_count": null,
      "outputs": [
        {
          "output_type": "display_data",
          "data": {
            "text/plain": [
              "<IPython.core.display.Markdown object>"
            ],
            "text/markdown": "Choose model to highlight and evaluate cell below."
          },
          "metadata": {}
        },
        {
          "output_type": "display_data",
          "data": {
            "text/plain": [
              "Dropdown(options=('01-ai/Yi-6B', '01-ai/Yi-34B', 'Deci/DeciLM-7B', 'Deci/DeciLM-7B-instruct', 'google/gemma-2b…"
            ],
            "application/vnd.jupyter.widget-view+json": {
              "version_major": 2,
              "version_minor": 0,
              "model_id": "6d5c475a8f5f4f65be4b496ba76f18a0"
            }
          },
          "metadata": {}
        }
      ]
    },
    {
      "cell_type": "code",
      "source": [
        "display(Markdown(\n",
        "  \"### Average baseline accuracy (x) and marginal accuracy gain (y) of LLMs in Open CoT Leaderboard\\n\\n\"\n",
        "  \"(Displaying six dots per LLM, one for each regime.)\"\n",
        "))\n",
        "plot_avg_acc(w.value)"
      ],
      "metadata": {
        "id": "VP1W8ryBITy9",
        "outputId": "395df8c8-fcdd-4825-9f3e-05d160128d36",
        "colab": {
          "base_uri": "https://localhost:8080/",
          "height": 573
        }
      },
      "execution_count": null,
      "outputs": [
        {
          "output_type": "display_data",
          "data": {
            "text/plain": [
              "<IPython.core.display.Markdown object>"
            ],
            "text/markdown": "### Average baseline accuracy (x) and marginal accuracy gain (y) of LLMs in Open CoT Leaderboard\n\n(Displaying six dots per LLM, one for each regime.)"
          },
          "metadata": {}
        },
        {
          "output_type": "display_data",
          "data": {
            "text/plain": [
              "<Figure size 691.5x500 with 1 Axes>"
            ],
            "image/png": "[encoded data removed]"
          },
          "metadata": {}
        }
      ]
    },
    {
      "cell_type": "code",
      "execution_count": null,
      "metadata": {
        "id": "DqI1I_A-Tqtf"
      },
      "outputs": [],
      "source": []
    },
    {
      "cell_type": "code",
      "execution_count": null,
      "metadata": {
        "id": "FZ-OaD_AVEDX"
      },
      "outputs": [],
      "source": []
    }
  ],
  "metadata": {
    "colab": {
      "provenance": [],
      "include_colab_link": true
    },
    "kernelspec": {
      "display_name": "Python 3",
      "name": "python3"
    },
    "language_info": {
      "name": "python"
    },
    "widgets": {
      "application/vnd.jupyter.widget-state+json": {
        "6d5c475a8f5f4f65be4b496ba76f18a0": {
          "model_module": "@jupyter-widgets/controls",
          "model_name": "DropdownModel",
          "model_module_version": "1.5.0",
          "state": {
            "_dom_classes": [],
            "_model_module": "@jupyter-widgets/controls",
            "_model_module_version": "1.5.0",
            "_model_name": "DropdownModel",
            "_options_labels": [
              "01-ai/Yi-6B",
              "01-ai/Yi-34B",
              "Deci/DeciLM-7B",
              "Deci/DeciLM-7B-instruct",
              "google/gemma-2b",
              "google/gemma-2b-it",
              "google/gemma-7b-it",
              "databricks/dolly-v2-3b",
              "mistralai/Mixtral-8x7B-Instruct-v0.1",
              "mistralai/Mistral-7B-Instruct-v0.2",
              "mistralai/Mistral-7B-v0.1",
              "mistralai/Mixtral-8x7B-v0.1",
              "OpenBuddy/openbuddy-mistral2-7b-v20.2-32k",
              "meta-llama/Llama-2-13b-hf",
              "meta-llama/Llama-2-70b-chat-hf",
              "meta-llama/Llama-2-13b-chat-hf",
              "meta-llama/Llama-2-70b-hf",
              "meta-llama/Llama-2-7b-hf",
              "allenai/tulu-2-7b",
              "allenai/tulu-2-70b",
              "allenai/tulu-2-dpo-13b",
              "allenai/tulu-2-13b",
              "allenai/tulu-2-dpo-70b",
              "allenai/tulu-2-dpo-7b",
              "ichigoberry/pandafish-2-7b-32k",
              "openbmb/Eurus-70b-sft",
              "openbmb/Eurus-7b-kto",
              "microsoft/Orca-2-7b",
              "microsoft/Orca-2-13b",
              "microsoft/phi-2",
              "bunnycore/Mnemosyne-7B",
              "mlabonne/AlphaMonarch-7B",
              "Locutusque/Hercules-4.0-Mistral-v0.2-7B",
              "Locutusque/OpenCerebrum-1.0-7b-DPO",
              "upstage/SOLAR-10.7B-v1.0",
              "upstage/SOLAR-10.7B-Instruct-v1.0",
              "openchat/openchat-3.5-0106",
              "HuggingFaceH4/zephyr-7b-beta",
              "teknium/OpenHermes-2.5-Mistral-7B",
              "NousResearch/Nous-Hermes-llama-2-7b",
              "NousResearch/Hermes-2-Pro-Mistral-7B",
              "Intel/neural-chat-7b-v3-1"
            ],
            "_view_count": null,
            "_view_module": "@jupyter-widgets/controls",
            "_view_module_version": "1.5.0",
            "_view_name": "DropdownView",
            "description": "",
            "description_tooltip": null,
            "disabled": false,
            "index": 6,
            "layout": "IPY_MODEL_a6a5b48409a749dea195cf6e9500f3af",
            "style": "IPY_MODEL_e2448a00bd0b4fb2beaf342bb88b0f6a"
          }
        },
        "a6a5b48409a749dea195cf6e9500f3af": {
          "model_module": "@jupyter-widgets/base",
          "model_name": "LayoutModel",
          "model_module_version": "1.2.0",
          "state": {
            "_model_module": "@jupyter-widgets/base",
            "_model_module_version": "1.2.0",
            "_model_name": "LayoutModel",
            "_view_count": null,
            "_view_module": "@jupyter-widgets/base",
            "_view_module_version": "1.2.0",
            "_view_name": "LayoutView",
            "align_content": null,
            "align_items": null,
            "align_self": null,
            "border": null,
            "bottom": null,
            "display": null,
            "flex": null,
            "flex_flow": null,
            "grid_area": null,
            "grid_auto_columns": null,
            "grid_auto_flow": null,
            "grid_auto_rows": null,
            "grid_column": null,
            "grid_gap": null,
            "grid_row": null,
            "grid_template_areas": null,
            "grid_template_columns": null,
            "grid_template_rows": null,
            "height": null,
            "justify_content": null,
            "justify_items": null,
            "left": null,
            "margin": null,
            "max_height": null,
            "max_width": null,
            "min_height": null,
            "min_width": null,
            "object_fit": null,
            "object_position": null,
            "order": null,
            "overflow": null,
            "overflow_x": null,
            "overflow_y": null,
            "padding": null,
            "right": null,
            "top": null,
            "visibility": null,
            "width": null
          }
        },
        "e2448a00bd0b4fb2beaf342bb88b0f6a": {
          "model_module": "@jupyter-widgets/controls",
          "model_name": "DescriptionStyleModel",
          "model_module_version": "1.5.0",
          "state": {
            "_model_module": "@jupyter-widgets/controls",
            "_model_module_version": "1.5.0",
            "_model_name": "DescriptionStyleModel",
            "_view_count": null,
            "_view_module": "@jupyter-widgets/base",
            "_view_module_version": "1.2.0",
            "_view_name": "StyleView",
            "description_width": ""
          }
        }
      }
    }
  },
  "nbformat": 4,
  "nbformat_minor": 0
}