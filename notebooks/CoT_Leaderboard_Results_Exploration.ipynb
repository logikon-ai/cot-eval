{
  "nbformat": 4,
  "nbformat_minor": 0,
  "metadata": {
    "colab": {
      "provenance": [],
      "authorship_tag": "ABX9TyMeKYY7YELfOmJSZGQrZsQg",
      "include_colab_link": true
    },
    "kernelspec": {
      "name": "python3",
      "display_name": "Python 3"
    },
    "language_info": {
      "name": "python"
    }
  },
  "cells": [
    {
      "cell_type": "markdown",
      "metadata": {
        "id": "view-in-github",
        "colab_type": "text"
      },
      "source": [
        "<a href=\"https://colab.research.google.com/github/logikon-ai/cot-eval/blob/main/notebooks/CoT_Leaderboard_Results_Exploration.ipynb\" target=\"_parent\"><img src=\"https://colab.research.google.com/assets/colab-badge.svg\" alt=\"Open In Colab\"/></a>"
      ]
    },
    {
      "cell_type": "markdown",
      "source": [
        "# Exploring the `/\\/` Open CoT Leaderboard Results"
      ],
      "metadata": {
        "id": "Hd5c67BpUT9u"
      }
    },
    {
      "cell_type": "markdown",
      "source": [
        "## Setup"
      ],
      "metadata": {
        "id": "8jf7u2s3UdfL"
      }
    },
    {
      "cell_type": "markdown",
      "source": [
        "### Init"
      ],
      "metadata": {
        "id": "OwAHQ0cfUqdf"
      }
    },
    {
      "cell_type": "code",
      "source": [
        "%pip install -Uq datasets huggingface_hub seaborn GitPython"
      ],
      "metadata": {
        "id": "mcKXJpqCuqrh"
      },
      "execution_count": null,
      "outputs": []
    },
    {
      "cell_type": "code",
      "source": [
        "EVAL_DATASET = \"logikon/cot-eval-results\"\n",
        "TRACES_DATASET = \"logikon/cot-eval-traces\"\n",
        "LOCAL_DIR = \"cot-eval-results\"\n",
        "LOCAL_CONFIGS = \"cot-traces\"\n",
        "SUBSETS = [\"base\",\"cot\",\"orig\"]"
      ],
      "metadata": {
        "id": "gmkjWzNNvxLV"
      },
      "execution_count": 2,
      "outputs": []
    },
    {
      "cell_type": "code",
      "execution_count": 3,
      "metadata": {
        "id": "8BwHDAjmuakL",
        "colab": {
          "base_uri": "https://localhost:8080/"
        },
        "outputId": "3baa26f2-b0cf-47b4-8adb-5883cae7f61b"
      },
      "outputs": [
        {
          "output_type": "stream",
          "name": "stdout",
          "text": [
            "HF Token:··········\n",
            "Token is valid (permission: read).\n",
            "Your token has been saved in your configured git credential helpers (store).\n",
            "Your token has been saved to /root/.cache/huggingface/token\n",
            "Login successful\n"
          ]
        }
      ],
      "source": [
        "import getpass\n",
        "from huggingface_hub import HfApi, login\n",
        "\n",
        "HF_TOKEN = getpass.getpass(\"HF Token:\")\n",
        "API = HfApi(token=HF_TOKEN)\n",
        "login(HF_TOKEN, add_to_git_credential=True)"
      ]
    },
    {
      "cell_type": "code",
      "source": [
        "#!rm -r cot-eval-results\n",
        "#!rm -r cot-traces"
      ],
      "metadata": {
        "id": "ADfX6X1mVKKz"
      },
      "execution_count": 4,
      "outputs": []
    },
    {
      "cell_type": "markdown",
      "source": [
        "### Load evaluation results"
      ],
      "metadata": {
        "id": "Zursl-ZPBSIT"
      }
    },
    {
      "cell_type": "code",
      "source": [
        "from huggingface_hub import snapshot_download\n",
        "\n",
        "snapshot_download(\n",
        "    repo_id=EVAL_DATASET,\n",
        "    revision=\"main\",\n",
        "    local_dir=LOCAL_DIR,\n",
        "    repo_type=\"dataset\",\n",
        "    max_workers=60,\n",
        "    token=HF_TOKEN\n",
        ")\n"
      ],
      "metadata": {
        "id": "pLMWT9dcvSYf"
      },
      "execution_count": null,
      "outputs": []
    },
    {
      "cell_type": "code",
      "source": [
        "# get all models for which results are stored\n",
        "import glob\n",
        "\n",
        "models = []\n",
        "for path in glob.glob(f\"{LOCAL_DIR}/data/*/*\", recursive=False):\n",
        "  models.append(path.replace(f\"{LOCAL_DIR}/data/\",\"\"))\n",
        "models"
      ],
      "metadata": {
        "colab": {
          "base_uri": "https://localhost:8080/"
        },
        "id": "5HR7metwv32L",
        "outputId": "990f92ad-b6b3-437f-a4bb-3c2331dc5146"
      },
      "execution_count": 7,
      "outputs": [
        {
          "output_type": "execute_result",
          "data": {
            "text/plain": [
              "['Deci/DeciLM-7B',\n",
              " 'Deci/DeciLM-7B-instruct',\n",
              " 'allenai/tulu-2-7b',\n",
              " 'microsoft/phi-2',\n",
              " '01-ai/Yi-6B',\n",
              " 'mistralai/Mistral-7B-Instruct-v0.2',\n",
              " 'mistralai/Mistral-7B-v0.1',\n",
              " 'Intel/neural-chat-7b-v3-1',\n",
              " 'meta-llama/Llama-2-7b-hf']"
            ]
          },
          "metadata": {},
          "execution_count": 7
        }
      ]
    },
    {
      "cell_type": "code",
      "source": [
        "import json\n",
        "\n",
        "import pandas as pd\n",
        "\n",
        "results = []\n",
        "\n",
        "for model in models:\n",
        "    for subset in SUBSETS:\n",
        "        result_files = glob.glob(f\"{LOCAL_DIR}/data/{model}/{subset}/**/*.json\", recursive=True)\n",
        "        for json_filepath in result_files:\n",
        "            with open(json_filepath) as fp:\n",
        "                data = json.load(fp)\n",
        "            if \"results\" in data.keys():\n",
        "                for k,v in data[\"results\"].items():\n",
        "                    record = v.copy()\n",
        "                    record[\"model\"] = model\n",
        "                    record[\"subset\"] = subset\n",
        "                    results.append(record)\n",
        "\n",
        "df_results = pd.DataFrame(results)\n",
        "del results"
      ],
      "metadata": {
        "id": "EabOrJoGwHwL"
      },
      "execution_count": 8,
      "outputs": []
    },
    {
      "cell_type": "code",
      "source": [
        "def split_alias(alias: str) -> pd.Series:\n",
        "    if alias[-5:]==\"_base\":\n",
        "        alias = alias[:-5]\n",
        "    elif alias[-4:]==\"_cot\":\n",
        "        alias = alias[:-4]\n",
        "\n",
        "    if \"_\" not in alias:\n",
        "        task = alias\n",
        "        config = \"\"\n",
        "    else:\n",
        "        config, task = alias.split(\"_\")\n",
        "\n",
        "    return pd.Series({\"task\": task, \"config\": config})\n",
        "\n",
        "df_results = pd.concat([df_results, df_results.alias.apply(split_alias)], axis=1)"
      ],
      "metadata": {
        "id": "zpiCxWV61y0X"
      },
      "execution_count": 9,
      "outputs": []
    },
    {
      "cell_type": "code",
      "source": [
        "df_results.head()"
      ],
      "metadata": {
        "colab": {
          "base_uri": "https://localhost:8080/",
          "height": 206
        },
        "id": "4KyK7-wI1_XE",
        "outputId": "b361fc2c-2dc7-4b91-b639-e9a900a7c7eb"
      },
      "execution_count": 10,
      "outputs": [
        {
          "output_type": "execute_result",
          "data": {
            "text/plain": [
              "   acc,none  acc_stderr,none                         alias           model  \\\n",
              "0  0.371747         0.029520  veritatis-velit_lsat-rc_base  Deci/DeciLM-7B   \n",
              "1  0.250980         0.019218  veritatis-velit_lsat-lr_base  Deci/DeciLM-7B   \n",
              "2  0.221739         0.027451  veritatis-velit_lsat-ar_base  Deci/DeciLM-7B   \n",
              "3  0.290735         0.018164   veritatis-velit_logiqa_base  Deci/DeciLM-7B   \n",
              "4  0.367048         0.012161  veritatis-velit_logiqa2_base  Deci/DeciLM-7B   \n",
              "\n",
              "  subset     task           config  \n",
              "0   base  lsat-rc  veritatis-velit  \n",
              "1   base  lsat-lr  veritatis-velit  \n",
              "2   base  lsat-ar  veritatis-velit  \n",
              "3   base   logiqa  veritatis-velit  \n",
              "4   base  logiqa2  veritatis-velit  "
            ],
            "text/html": [
              "\n",
              "  <div id=\"df-7e6bea62-1bd7-4c35-a30b-88c33a8dfd21\" class=\"colab-df-container\">\n",
              "    <div>\n",
              "<style scoped>\n",
              "    .dataframe tbody tr th:only-of-type {\n",
              "        vertical-align: middle;\n",
              "    }\n",
              "\n",
              "    .dataframe tbody tr th {\n",
              "        vertical-align: top;\n",
              "    }\n",
              "\n",
              "    .dataframe thead th {\n",
              "        text-align: right;\n",
              "    }\n",
              "</style>\n",
              "<table border=\"1\" class=\"dataframe\">\n",
              "  <thead>\n",
              "    <tr style=\"text-align: right;\">\n",
              "      <th></th>\n",
              "      <th>acc,none</th>\n",
              "      <th>acc_stderr,none</th>\n",
              "      <th>alias</th>\n",
              "      <th>model</th>\n",
              "      <th>subset</th>\n",
              "      <th>task</th>\n",
              "      <th>config</th>\n",
              "    </tr>\n",
              "  </thead>\n",
              "  <tbody>\n",
              "    <tr>\n",
              "      <th>0</th>\n",
              "      <td>0.371747</td>\n",
              "      <td>0.029520</td>\n",
              "      <td>veritatis-velit_lsat-rc_base</td>\n",
              "      <td>Deci/DeciLM-7B</td>\n",
              "      <td>base</td>\n",
              "      <td>lsat-rc</td>\n",
              "      <td>veritatis-velit</td>\n",
              "    </tr>\n",
              "    <tr>\n",
              "      <th>1</th>\n",
              "      <td>0.250980</td>\n",
              "      <td>0.019218</td>\n",
              "      <td>veritatis-velit_lsat-lr_base</td>\n",
              "      <td>Deci/DeciLM-7B</td>\n",
              "      <td>base</td>\n",
              "      <td>lsat-lr</td>\n",
              "      <td>veritatis-velit</td>\n",
              "    </tr>\n",
              "    <tr>\n",
              "      <th>2</th>\n",
              "      <td>0.221739</td>\n",
              "      <td>0.027451</td>\n",
              "      <td>veritatis-velit_lsat-ar_base</td>\n",
              "      <td>Deci/DeciLM-7B</td>\n",
              "      <td>base</td>\n",
              "      <td>lsat-ar</td>\n",
              "      <td>veritatis-velit</td>\n",
              "    </tr>\n",
              "    <tr>\n",
              "      <th>3</th>\n",
              "      <td>0.290735</td>\n",
              "      <td>0.018164</td>\n",
              "      <td>veritatis-velit_logiqa_base</td>\n",
              "      <td>Deci/DeciLM-7B</td>\n",
              "      <td>base</td>\n",
              "      <td>logiqa</td>\n",
              "      <td>veritatis-velit</td>\n",
              "    </tr>\n",
              "    <tr>\n",
              "      <th>4</th>\n",
              "      <td>0.367048</td>\n",
              "      <td>0.012161</td>\n",
              "      <td>veritatis-velit_logiqa2_base</td>\n",
              "      <td>Deci/DeciLM-7B</td>\n",
              "      <td>base</td>\n",
              "      <td>logiqa2</td>\n",
              "      <td>veritatis-velit</td>\n",
              "    </tr>\n",
              "  </tbody>\n",
              "</table>\n",
              "</div>\n",
              "    <div class=\"colab-df-buttons\">\n",
              "\n",
              "  <div class=\"colab-df-container\">\n",
              "    <button class=\"colab-df-convert\" onclick=\"convertToInteractive('df-7e6bea62-1bd7-4c35-a30b-88c33a8dfd21')\"\n",
              "            title=\"Convert this dataframe to an interactive table.\"\n",
              "            style=\"display:none;\">\n",
              "\n",
              "  <svg xmlns=\"http://www.w3.org/2000/svg\" height=\"24px\" viewBox=\"0 -960 960 960\">\n",
              "    <path d=\"M120-120v-720h720v720H120Zm60-500h600v-160H180v160Zm220 220h160v-160H400v160Zm0 220h160v-160H400v160ZM180-400h160v-160H180v160Zm440 0h160v-160H620v160ZM180-180h160v-160H180v160Zm440 0h160v-160H620v160Z\"/>\n",
              "  </svg>\n",
              "    </button>\n",
              "\n",
              "  <style>\n",
              "    .colab-df-container {\n",
              "      display:flex;\n",
              "      gap: 12px;\n",
              "    }\n",
              "\n",
              "    .colab-df-convert {\n",
              "      background-color: #E8F0FE;\n",
              "      border: none;\n",
              "      border-radius: 50%;\n",
              "      cursor: pointer;\n",
              "      display: none;\n",
              "      fill: #1967D2;\n",
              "      height: 32px;\n",
              "      padding: 0 0 0 0;\n",
              "      width: 32px;\n",
              "    }\n",
              "\n",
              "    .colab-df-convert:hover {\n",
              "      background-color: #E2EBFA;\n",
              "      box-shadow: 0px 1px 2px rgba(60, 64, 67, 0.3), 0px 1px 3px 1px rgba(60, 64, 67, 0.15);\n",
              "      fill: #174EA6;\n",
              "    }\n",
              "\n",
              "    .colab-df-buttons div {\n",
              "      margin-bottom: 4px;\n",
              "    }\n",
              "\n",
              "    [theme=dark] .colab-df-convert {\n",
              "      background-color: #3B4455;\n",
              "      fill: #D2E3FC;\n",
              "    }\n",
              "\n",
              "    [theme=dark] .colab-df-convert:hover {\n",
              "      background-color: #434B5C;\n",
              "      box-shadow: 0px 1px 3px 1px rgba(0, 0, 0, 0.15);\n",
              "      filter: drop-shadow(0px 1px 2px rgba(0, 0, 0, 0.3));\n",
              "      fill: #FFFFFF;\n",
              "    }\n",
              "  </style>\n",
              "\n",
              "    <script>\n",
              "      const buttonEl =\n",
              "        document.querySelector('#df-7e6bea62-1bd7-4c35-a30b-88c33a8dfd21 button.colab-df-convert');\n",
              "      buttonEl.style.display =\n",
              "        google.colab.kernel.accessAllowed ? 'block' : 'none';\n",
              "\n",
              "      async function convertToInteractive(key) {\n",
              "        const element = document.querySelector('#df-7e6bea62-1bd7-4c35-a30b-88c33a8dfd21');\n",
              "        const dataTable =\n",
              "          await google.colab.kernel.invokeFunction('convertToInteractive',\n",
              "                                                    [key], {});\n",
              "        if (!dataTable) return;\n",
              "\n",
              "        const docLinkHtml = 'Like what you see? Visit the ' +\n",
              "          '<a target=\"_blank\" href=https://colab.research.google.com/notebooks/data_table.ipynb>data table notebook</a>'\n",
              "          + ' to learn more about interactive tables.';\n",
              "        element.innerHTML = '';\n",
              "        dataTable['output_type'] = 'display_data';\n",
              "        await google.colab.output.renderOutput(dataTable, element);\n",
              "        const docLink = document.createElement('div');\n",
              "        docLink.innerHTML = docLinkHtml;\n",
              "        element.appendChild(docLink);\n",
              "      }\n",
              "    </script>\n",
              "  </div>\n",
              "\n",
              "\n",
              "<div id=\"df-eff90d37-6626-4d36-8a00-86a08adda5b7\">\n",
              "  <button class=\"colab-df-quickchart\" onclick=\"quickchart('df-eff90d37-6626-4d36-8a00-86a08adda5b7')\"\n",
              "            title=\"Suggest charts\"\n",
              "            style=\"display:none;\">\n",
              "\n",
              "<svg xmlns=\"http://www.w3.org/2000/svg\" height=\"24px\"viewBox=\"0 0 24 24\"\n",
              "     width=\"24px\">\n",
              "    <g>\n",
              "        <path d=\"M19 3H5c-1.1 0-2 .9-2 2v14c0 1.1.9 2 2 2h14c1.1 0 2-.9 2-2V5c0-1.1-.9-2-2-2zM9 17H7v-7h2v7zm4 0h-2V7h2v10zm4 0h-2v-4h2v4z\"/>\n",
              "    </g>\n",
              "</svg>\n",
              "  </button>\n",
              "\n",
              "<style>\n",
              "  .colab-df-quickchart {\n",
              "      --bg-color: #E8F0FE;\n",
              "      --fill-color: #1967D2;\n",
              "      --hover-bg-color: #E2EBFA;\n",
              "      --hover-fill-color: #174EA6;\n",
              "      --disabled-fill-color: #AAA;\n",
              "      --disabled-bg-color: #DDD;\n",
              "  }\n",
              "\n",
              "  [theme=dark] .colab-df-quickchart {\n",
              "      --bg-color: #3B4455;\n",
              "      --fill-color: #D2E3FC;\n",
              "      --hover-bg-color: #434B5C;\n",
              "      --hover-fill-color: #FFFFFF;\n",
              "      --disabled-bg-color: #3B4455;\n",
              "      --disabled-fill-color: #666;\n",
              "  }\n",
              "\n",
              "  .colab-df-quickchart {\n",
              "    background-color: var(--bg-color);\n",
              "    border: none;\n",
              "    border-radius: 50%;\n",
              "    cursor: pointer;\n",
              "    display: none;\n",
              "    fill: var(--fill-color);\n",
              "    height: 32px;\n",
              "    padding: 0;\n",
              "    width: 32px;\n",
              "  }\n",
              "\n",
              "  .colab-df-quickchart:hover {\n",
              "    background-color: var(--hover-bg-color);\n",
              "    box-shadow: 0 1px 2px rgba(60, 64, 67, 0.3), 0 1px 3px 1px rgba(60, 64, 67, 0.15);\n",
              "    fill: var(--button-hover-fill-color);\n",
              "  }\n",
              "\n",
              "  .colab-df-quickchart-complete:disabled,\n",
              "  .colab-df-quickchart-complete:disabled:hover {\n",
              "    background-color: var(--disabled-bg-color);\n",
              "    fill: var(--disabled-fill-color);\n",
              "    box-shadow: none;\n",
              "  }\n",
              "\n",
              "  .colab-df-spinner {\n",
              "    border: 2px solid var(--fill-color);\n",
              "    border-color: transparent;\n",
              "    border-bottom-color: var(--fill-color);\n",
              "    animation:\n",
              "      spin 1s steps(1) infinite;\n",
              "  }\n",
              "\n",
              "  @keyframes spin {\n",
              "    0% {\n",
              "      border-color: transparent;\n",
              "      border-bottom-color: var(--fill-color);\n",
              "      border-left-color: var(--fill-color);\n",
              "    }\n",
              "    20% {\n",
              "      border-color: transparent;\n",
              "      border-left-color: var(--fill-color);\n",
              "      border-top-color: var(--fill-color);\n",
              "    }\n",
              "    30% {\n",
              "      border-color: transparent;\n",
              "      border-left-color: var(--fill-color);\n",
              "      border-top-color: var(--fill-color);\n",
              "      border-right-color: var(--fill-color);\n",
              "    }\n",
              "    40% {\n",
              "      border-color: transparent;\n",
              "      border-right-color: var(--fill-color);\n",
              "      border-top-color: var(--fill-color);\n",
              "    }\n",
              "    60% {\n",
              "      border-color: transparent;\n",
              "      border-right-color: var(--fill-color);\n",
              "    }\n",
              "    80% {\n",
              "      border-color: transparent;\n",
              "      border-right-color: var(--fill-color);\n",
              "      border-bottom-color: var(--fill-color);\n",
              "    }\n",
              "    90% {\n",
              "      border-color: transparent;\n",
              "      border-bottom-color: var(--fill-color);\n",
              "    }\n",
              "  }\n",
              "</style>\n",
              "\n",
              "  <script>\n",
              "    async function quickchart(key) {\n",
              "      const quickchartButtonEl =\n",
              "        document.querySelector('#' + key + ' button');\n",
              "      quickchartButtonEl.disabled = true;  // To prevent multiple clicks.\n",
              "      quickchartButtonEl.classList.add('colab-df-spinner');\n",
              "      try {\n",
              "        const charts = await google.colab.kernel.invokeFunction(\n",
              "            'suggestCharts', [key], {});\n",
              "      } catch (error) {\n",
              "        console.error('Error during call to suggestCharts:', error);\n",
              "      }\n",
              "      quickchartButtonEl.classList.remove('colab-df-spinner');\n",
              "      quickchartButtonEl.classList.add('colab-df-quickchart-complete');\n",
              "    }\n",
              "    (() => {\n",
              "      let quickchartButtonEl =\n",
              "        document.querySelector('#df-eff90d37-6626-4d36-8a00-86a08adda5b7 button');\n",
              "      quickchartButtonEl.style.display =\n",
              "        google.colab.kernel.accessAllowed ? 'block' : 'none';\n",
              "    })();\n",
              "  </script>\n",
              "</div>\n",
              "    </div>\n",
              "  </div>\n"
            ]
          },
          "metadata": {},
          "execution_count": 10
        }
      ]
    },
    {
      "cell_type": "code",
      "source": [
        "df_tmp1 = df_results[df_results.subset.eq(\"cot\")].sort_values(by=[\"model\",\"task\",\"config\"])\n",
        "df_tmp2 = df_results[df_results.subset.eq(\"base\")].sort_values(by=[\"model\",\"task\",\"config\"])\n",
        "\n",
        "df_tmp1.reset_index(inplace=True, drop=True)\n",
        "df_tmp2.reset_index(inplace=True, drop=True)\n",
        "\n",
        "assert df_tmp1.config.to_list() == df_tmp2.config.to_list()\n",
        "assert df_tmp1.model.to_list() == df_tmp2.model.to_list()\n",
        "assert df_tmp1.task.to_list() == df_tmp2.task.to_list()\n",
        "\n",
        "df_cot = df_tmp1[[\"model\",\"task\",\"config\"]].copy()\n",
        "df_cot[\"acc_cot\"] = df_tmp1[\"acc,none\"]\n",
        "df_cot[\"acc_base\"] = df_tmp2[\"acc,none\"]\n",
        "\n",
        "df_cot[\"delta_abs\"] = df_cot.acc_cot - df_cot.acc_base\n",
        "df_cot[\"delta_rel\"] = (df_cot.acc_cot - df_cot.acc_base)/df_cot.acc_base\n"
      ],
      "metadata": {
        "id": "myUdd5vC5ndI"
      },
      "execution_count": 11,
      "outputs": []
    },
    {
      "cell_type": "code",
      "source": [
        "df_cot.head()"
      ],
      "metadata": {
        "colab": {
          "base_uri": "https://localhost:8080/",
          "height": 206
        },
        "id": "59xQx-Ew8iic",
        "outputId": "2331e31c-9f25-4ce1-8c41-f531f4dab973"
      },
      "execution_count": 12,
      "outputs": [
        {
          "output_type": "execute_result",
          "data": {
            "text/plain": [
              "         model    task                 config   acc_cot  acc_base  delta_abs  \\\n",
              "0  01-ai/Yi-6B  logiqa  accusantium-inventore  0.327476  0.301917   0.025559   \n",
              "1  01-ai/Yi-6B  logiqa             amet-ullam  0.292332  0.284345   0.007987   \n",
              "2  01-ai/Yi-6B  logiqa            illum-eaque  0.292332  0.271565   0.020767   \n",
              "3  01-ai/Yi-6B  logiqa  libero-exercitationem  0.321086  0.300319   0.020767   \n",
              "4  01-ai/Yi-6B  logiqa            magnam-eius  0.290735  0.265176   0.025559   \n",
              "\n",
              "   delta_rel  \n",
              "0   0.084656  \n",
              "1   0.028090  \n",
              "2   0.076471  \n",
              "3   0.069149  \n",
              "4   0.096386  "
            ],
            "text/html": [
              "\n",
              "  <div id=\"df-0faedad7-7efe-4531-882b-b25a4f9e9911\" class=\"colab-df-container\">\n",
              "    <div>\n",
              "<style scoped>\n",
              "    .dataframe tbody tr th:only-of-type {\n",
              "        vertical-align: middle;\n",
              "    }\n",
              "\n",
              "    .dataframe tbody tr th {\n",
              "        vertical-align: top;\n",
              "    }\n",
              "\n",
              "    .dataframe thead th {\n",
              "        text-align: right;\n",
              "    }\n",
              "</style>\n",
              "<table border=\"1\" class=\"dataframe\">\n",
              "  <thead>\n",
              "    <tr style=\"text-align: right;\">\n",
              "      <th></th>\n",
              "      <th>model</th>\n",
              "      <th>task</th>\n",
              "      <th>config</th>\n",
              "      <th>acc_cot</th>\n",
              "      <th>acc_base</th>\n",
              "      <th>delta_abs</th>\n",
              "      <th>delta_rel</th>\n",
              "    </tr>\n",
              "  </thead>\n",
              "  <tbody>\n",
              "    <tr>\n",
              "      <th>0</th>\n",
              "      <td>01-ai/Yi-6B</td>\n",
              "      <td>logiqa</td>\n",
              "      <td>accusantium-inventore</td>\n",
              "      <td>0.327476</td>\n",
              "      <td>0.301917</td>\n",
              "      <td>0.025559</td>\n",
              "      <td>0.084656</td>\n",
              "    </tr>\n",
              "    <tr>\n",
              "      <th>1</th>\n",
              "      <td>01-ai/Yi-6B</td>\n",
              "      <td>logiqa</td>\n",
              "      <td>amet-ullam</td>\n",
              "      <td>0.292332</td>\n",
              "      <td>0.284345</td>\n",
              "      <td>0.007987</td>\n",
              "      <td>0.028090</td>\n",
              "    </tr>\n",
              "    <tr>\n",
              "      <th>2</th>\n",
              "      <td>01-ai/Yi-6B</td>\n",
              "      <td>logiqa</td>\n",
              "      <td>illum-eaque</td>\n",
              "      <td>0.292332</td>\n",
              "      <td>0.271565</td>\n",
              "      <td>0.020767</td>\n",
              "      <td>0.076471</td>\n",
              "    </tr>\n",
              "    <tr>\n",
              "      <th>3</th>\n",
              "      <td>01-ai/Yi-6B</td>\n",
              "      <td>logiqa</td>\n",
              "      <td>libero-exercitationem</td>\n",
              "      <td>0.321086</td>\n",
              "      <td>0.300319</td>\n",
              "      <td>0.020767</td>\n",
              "      <td>0.069149</td>\n",
              "    </tr>\n",
              "    <tr>\n",
              "      <th>4</th>\n",
              "      <td>01-ai/Yi-6B</td>\n",
              "      <td>logiqa</td>\n",
              "      <td>magnam-eius</td>\n",
              "      <td>0.290735</td>\n",
              "      <td>0.265176</td>\n",
              "      <td>0.025559</td>\n",
              "      <td>0.096386</td>\n",
              "    </tr>\n",
              "  </tbody>\n",
              "</table>\n",
              "</div>\n",
              "    <div class=\"colab-df-buttons\">\n",
              "\n",
              "  <div class=\"colab-df-container\">\n",
              "    <button class=\"colab-df-convert\" onclick=\"convertToInteractive('df-0faedad7-7efe-4531-882b-b25a4f9e9911')\"\n",
              "            title=\"Convert this dataframe to an interactive table.\"\n",
              "            style=\"display:none;\">\n",
              "\n",
              "  <svg xmlns=\"http://www.w3.org/2000/svg\" height=\"24px\" viewBox=\"0 -960 960 960\">\n",
              "    <path d=\"M120-120v-720h720v720H120Zm60-500h600v-160H180v160Zm220 220h160v-160H400v160Zm0 220h160v-160H400v160ZM180-400h160v-160H180v160Zm440 0h160v-160H620v160ZM180-180h160v-160H180v160Zm440 0h160v-160H620v160Z\"/>\n",
              "  </svg>\n",
              "    </button>\n",
              "\n",
              "  <style>\n",
              "    .colab-df-container {\n",
              "      display:flex;\n",
              "      gap: 12px;\n",
              "    }\n",
              "\n",
              "    .colab-df-convert {\n",
              "      background-color: #E8F0FE;\n",
              "      border: none;\n",
              "      border-radius: 50%;\n",
              "      cursor: pointer;\n",
              "      display: none;\n",
              "      fill: #1967D2;\n",
              "      height: 32px;\n",
              "      padding: 0 0 0 0;\n",
              "      width: 32px;\n",
              "    }\n",
              "\n",
              "    .colab-df-convert:hover {\n",
              "      background-color: #E2EBFA;\n",
              "      box-shadow: 0px 1px 2px rgba(60, 64, 67, 0.3), 0px 1px 3px 1px rgba(60, 64, 67, 0.15);\n",
              "      fill: #174EA6;\n",
              "    }\n",
              "\n",
              "    .colab-df-buttons div {\n",
              "      margin-bottom: 4px;\n",
              "    }\n",
              "\n",
              "    [theme=dark] .colab-df-convert {\n",
              "      background-color: #3B4455;\n",
              "      fill: #D2E3FC;\n",
              "    }\n",
              "\n",
              "    [theme=dark] .colab-df-convert:hover {\n",
              "      background-color: #434B5C;\n",
              "      box-shadow: 0px 1px 3px 1px rgba(0, 0, 0, 0.15);\n",
              "      filter: drop-shadow(0px 1px 2px rgba(0, 0, 0, 0.3));\n",
              "      fill: #FFFFFF;\n",
              "    }\n",
              "  </style>\n",
              "\n",
              "    <script>\n",
              "      const buttonEl =\n",
              "        document.querySelector('#df-0faedad7-7efe-4531-882b-b25a4f9e9911 button.colab-df-convert');\n",
              "      buttonEl.style.display =\n",
              "        google.colab.kernel.accessAllowed ? 'block' : 'none';\n",
              "\n",
              "      async function convertToInteractive(key) {\n",
              "        const element = document.querySelector('#df-0faedad7-7efe-4531-882b-b25a4f9e9911');\n",
              "        const dataTable =\n",
              "          await google.colab.kernel.invokeFunction('convertToInteractive',\n",
              "                                                    [key], {});\n",
              "        if (!dataTable) return;\n",
              "\n",
              "        const docLinkHtml = 'Like what you see? Visit the ' +\n",
              "          '<a target=\"_blank\" href=https://colab.research.google.com/notebooks/data_table.ipynb>data table notebook</a>'\n",
              "          + ' to learn more about interactive tables.';\n",
              "        element.innerHTML = '';\n",
              "        dataTable['output_type'] = 'display_data';\n",
              "        await google.colab.output.renderOutput(dataTable, element);\n",
              "        const docLink = document.createElement('div');\n",
              "        docLink.innerHTML = docLinkHtml;\n",
              "        element.appendChild(docLink);\n",
              "      }\n",
              "    </script>\n",
              "  </div>\n",
              "\n",
              "\n",
              "<div id=\"df-035e8e3f-c502-4a30-b011-f5dd659d719c\">\n",
              "  <button class=\"colab-df-quickchart\" onclick=\"quickchart('df-035e8e3f-c502-4a30-b011-f5dd659d719c')\"\n",
              "            title=\"Suggest charts\"\n",
              "            style=\"display:none;\">\n",
              "\n",
              "<svg xmlns=\"http://www.w3.org/2000/svg\" height=\"24px\"viewBox=\"0 0 24 24\"\n",
              "     width=\"24px\">\n",
              "    <g>\n",
              "        <path d=\"M19 3H5c-1.1 0-2 .9-2 2v14c0 1.1.9 2 2 2h14c1.1 0 2-.9 2-2V5c0-1.1-.9-2-2-2zM9 17H7v-7h2v7zm4 0h-2V7h2v10zm4 0h-2v-4h2v4z\"/>\n",
              "    </g>\n",
              "</svg>\n",
              "  </button>\n",
              "\n",
              "<style>\n",
              "  .colab-df-quickchart {\n",
              "      --bg-color: #E8F0FE;\n",
              "      --fill-color: #1967D2;\n",
              "      --hover-bg-color: #E2EBFA;\n",
              "      --hover-fill-color: #174EA6;\n",
              "      --disabled-fill-color: #AAA;\n",
              "      --disabled-bg-color: #DDD;\n",
              "  }\n",
              "\n",
              "  [theme=dark] .colab-df-quickchart {\n",
              "      --bg-color: #3B4455;\n",
              "      --fill-color: #D2E3FC;\n",
              "      --hover-bg-color: #434B5C;\n",
              "      --hover-fill-color: #FFFFFF;\n",
              "      --disabled-bg-color: #3B4455;\n",
              "      --disabled-fill-color: #666;\n",
              "  }\n",
              "\n",
              "  .colab-df-quickchart {\n",
              "    background-color: var(--bg-color);\n",
              "    border: none;\n",
              "    border-radius: 50%;\n",
              "    cursor: pointer;\n",
              "    display: none;\n",
              "    fill: var(--fill-color);\n",
              "    height: 32px;\n",
              "    padding: 0;\n",
              "    width: 32px;\n",
              "  }\n",
              "\n",
              "  .colab-df-quickchart:hover {\n",
              "    background-color: var(--hover-bg-color);\n",
              "    box-shadow: 0 1px 2px rgba(60, 64, 67, 0.3), 0 1px 3px 1px rgba(60, 64, 67, 0.15);\n",
              "    fill: var(--button-hover-fill-color);\n",
              "  }\n",
              "\n",
              "  .colab-df-quickchart-complete:disabled,\n",
              "  .colab-df-quickchart-complete:disabled:hover {\n",
              "    background-color: var(--disabled-bg-color);\n",
              "    fill: var(--disabled-fill-color);\n",
              "    box-shadow: none;\n",
              "  }\n",
              "\n",
              "  .colab-df-spinner {\n",
              "    border: 2px solid var(--fill-color);\n",
              "    border-color: transparent;\n",
              "    border-bottom-color: var(--fill-color);\n",
              "    animation:\n",
              "      spin 1s steps(1) infinite;\n",
              "  }\n",
              "\n",
              "  @keyframes spin {\n",
              "    0% {\n",
              "      border-color: transparent;\n",
              "      border-bottom-color: var(--fill-color);\n",
              "      border-left-color: var(--fill-color);\n",
              "    }\n",
              "    20% {\n",
              "      border-color: transparent;\n",
              "      border-left-color: var(--fill-color);\n",
              "      border-top-color: var(--fill-color);\n",
              "    }\n",
              "    30% {\n",
              "      border-color: transparent;\n",
              "      border-left-color: var(--fill-color);\n",
              "      border-top-color: var(--fill-color);\n",
              "      border-right-color: var(--fill-color);\n",
              "    }\n",
              "    40% {\n",
              "      border-color: transparent;\n",
              "      border-right-color: var(--fill-color);\n",
              "      border-top-color: var(--fill-color);\n",
              "    }\n",
              "    60% {\n",
              "      border-color: transparent;\n",
              "      border-right-color: var(--fill-color);\n",
              "    }\n",
              "    80% {\n",
              "      border-color: transparent;\n",
              "      border-right-color: var(--fill-color);\n",
              "      border-bottom-color: var(--fill-color);\n",
              "    }\n",
              "    90% {\n",
              "      border-color: transparent;\n",
              "      border-bottom-color: var(--fill-color);\n",
              "    }\n",
              "  }\n",
              "</style>\n",
              "\n",
              "  <script>\n",
              "    async function quickchart(key) {\n",
              "      const quickchartButtonEl =\n",
              "        document.querySelector('#' + key + ' button');\n",
              "      quickchartButtonEl.disabled = true;  // To prevent multiple clicks.\n",
              "      quickchartButtonEl.classList.add('colab-df-spinner');\n",
              "      try {\n",
              "        const charts = await google.colab.kernel.invokeFunction(\n",
              "            'suggestCharts', [key], {});\n",
              "      } catch (error) {\n",
              "        console.error('Error during call to suggestCharts:', error);\n",
              "      }\n",
              "      quickchartButtonEl.classList.remove('colab-df-spinner');\n",
              "      quickchartButtonEl.classList.add('colab-df-quickchart-complete');\n",
              "    }\n",
              "    (() => {\n",
              "      let quickchartButtonEl =\n",
              "        document.querySelector('#df-035e8e3f-c502-4a30-b011-f5dd659d719c button');\n",
              "      quickchartButtonEl.style.display =\n",
              "        google.colab.kernel.accessAllowed ? 'block' : 'none';\n",
              "    })();\n",
              "  </script>\n",
              "</div>\n",
              "    </div>\n",
              "  </div>\n"
            ]
          },
          "metadata": {},
          "execution_count": 12
        }
      ]
    },
    {
      "cell_type": "code",
      "source": [
        "df_cot.groupby(\"model\").count()[\"task\"]"
      ],
      "metadata": {
        "colab": {
          "base_uri": "https://localhost:8080/"
        },
        "id": "C6C--5Qmptg4",
        "outputId": "56d9c768-b8ec-40b0-cfb2-469f833a9183"
      },
      "execution_count": 13,
      "outputs": [
        {
          "output_type": "execute_result",
          "data": {
            "text/plain": [
              "model\n",
              "01-ai/Yi-6B                           30\n",
              "Deci/DeciLM-7B                        30\n",
              "Deci/DeciLM-7B-instruct               30\n",
              "Intel/neural-chat-7b-v3-1             30\n",
              "allenai/tulu-2-7b                     30\n",
              "meta-llama/Llama-2-7b-hf              30\n",
              "microsoft/phi-2                       30\n",
              "mistralai/Mistral-7B-Instruct-v0.2    30\n",
              "mistralai/Mistral-7B-v0.1             30\n",
              "Name: task, dtype: int64"
            ]
          },
          "metadata": {},
          "execution_count": 13
        }
      ]
    },
    {
      "cell_type": "markdown",
      "source": [
        "### Load CoT configuration data"
      ],
      "metadata": {
        "id": "leIT5WUaBZAL"
      }
    },
    {
      "cell_type": "code",
      "source": [
        "from git import Repo\n",
        "\n",
        "repo = Repo.clone_from(f\"https://huggingface.co/datasets/{TRACES_DATASET}\", LOCAL_CONFIGS)\n",
        "\n",
        "repo"
      ],
      "metadata": {
        "colab": {
          "base_uri": "https://localhost:8080/"
        },
        "id": "5NzQp4K_Kehs",
        "outputId": "88a0c87b-afb6-49c7-c72b-95547a259963"
      },
      "execution_count": 14,
      "outputs": [
        {
          "output_type": "execute_result",
          "data": {
            "text/plain": [
              "<git.repo.base.Repo '/content/cot-traces/.git'>"
            ]
          },
          "metadata": {},
          "execution_count": 14
        }
      ]
    },
    {
      "cell_type": "code",
      "source": [
        "COT_CONFIG_KEYS = [\"cot_chain\", \"best_of\", \"use_beam_search\", \"temperature\", \"top_p\", \"top_k\"]\n",
        "\n",
        "def extract_config(message: str):\n",
        "  config_dict = {}\n",
        "  for line in message.split(\"\\n\"):\n",
        "    line = line.strip()\n",
        "    for key in COT_CONFIG_KEYS:\n",
        "      if line.startswith(f\"{key}:\"):\n",
        "        config_dict[key] = line.replace(f\"{key}:\",\"\").strip()\n",
        "  return config_dict\n",
        "\n",
        "\n",
        "\n",
        "for c in repo.iter_commits(all=True, max_count=1, paths=\"ullam-consectetur-logiqa\"):\n",
        "  print(extract_config(c.message))"
      ],
      "metadata": {
        "colab": {
          "base_uri": "https://localhost:8080/"
        },
        "id": "FO3WJo1jMXZF",
        "outputId": "5810ae96-5978-4264-b804-3ffef5dfe70d"
      },
      "execution_count": 15,
      "outputs": [
        {
          "output_type": "stream",
          "name": "stdout",
          "text": [
            "{'cot_chain': 'ReflectBeforeRun', 'best_of': '2', 'temperature': '0', 'top_k': '-1', 'top_p': '1.0', 'use_beam_search': 'true'}\n"
          ]
        }
      ]
    },
    {
      "cell_type": "code",
      "source": [
        "cot_configs_data = {}\n",
        "\n",
        "for cot_config_id in df_results.config.unique():\n",
        "  if cot_config_id:\n",
        "    c = next(repo.iter_commits(all=True, max_count=1, paths=f\"{cot_config_id}-logiqa\"))\n",
        "    cot_configs_data[cot_config_id] = extract_config(c.message)\n"
      ],
      "metadata": {
        "id": "6jvuNp_TO8K8"
      },
      "execution_count": 16,
      "outputs": []
    },
    {
      "cell_type": "code",
      "source": [
        "# add cot configs data to df_results\n",
        "df_cot = pd.concat(\n",
        "    [\n",
        "        df_cot,\n",
        "        df_cot.config.apply(lambda x: pd.Series(cot_configs_data[x]))\n",
        "    ],\n",
        "    axis=1\n",
        ")\n"
      ],
      "metadata": {
        "id": "QMFjvIs7QH_M"
      },
      "execution_count": 17,
      "outputs": []
    },
    {
      "cell_type": "code",
      "source": [
        "df_cot[\"decoding\"] = \"T:\"+df_cot.temperature.astype(str) + \"-BS:\" + df_cot.use_beam_search.astype(str)"
      ],
      "metadata": {
        "id": "teGW91QPSd4h"
      },
      "execution_count": 18,
      "outputs": []
    },
    {
      "cell_type": "code",
      "source": [
        "df_cot.head()"
      ],
      "metadata": {
        "colab": {
          "base_uri": "https://localhost:8080/",
          "height": 400
        },
        "id": "u_aY94h4Qoci",
        "outputId": "7db666d9-c594-4d49-8850-dd104b672e8c"
      },
      "execution_count": 19,
      "outputs": [
        {
          "output_type": "execute_result",
          "data": {
            "text/plain": [
              "         model    task                 config   acc_cot  acc_base  delta_abs  \\\n",
              "0  01-ai/Yi-6B  logiqa  accusantium-inventore  0.327476  0.301917   0.025559   \n",
              "1  01-ai/Yi-6B  logiqa             amet-ullam  0.292332  0.284345   0.007987   \n",
              "2  01-ai/Yi-6B  logiqa            illum-eaque  0.292332  0.271565   0.020767   \n",
              "3  01-ai/Yi-6B  logiqa  libero-exercitationem  0.321086  0.300319   0.020767   \n",
              "4  01-ai/Yi-6B  logiqa            magnam-eius  0.290735  0.265176   0.025559   \n",
              "\n",
              "   delta_rel         cot_chain best_of temperature top_k top_p  \\\n",
              "0   0.084656           HandsOn       1           0    -1   1.0   \n",
              "1   0.028090  ReflectBeforeRun       2           0    -1   1.0   \n",
              "2   0.076471  ReflectBeforeRun       1         0.3   100  0.95   \n",
              "3   0.069149           HandsOn       2           0    -1   1.0   \n",
              "4   0.096386           HandsOn       1         0.3   100  0.95   \n",
              "\n",
              "  use_beam_search        decoding  \n",
              "0           false    T:0-BS:false  \n",
              "1            true     T:0-BS:true  \n",
              "2           false  T:0.3-BS:false  \n",
              "3            true     T:0-BS:true  \n",
              "4           false  T:0.3-BS:false  "
            ],
            "text/html": [
              "\n",
              "  <div id=\"df-955a02bf-89ec-4c12-a691-197d027beca2\" class=\"colab-df-container\">\n",
              "    <div>\n",
              "<style scoped>\n",
              "    .dataframe tbody tr th:only-of-type {\n",
              "        vertical-align: middle;\n",
              "    }\n",
              "\n",
              "    .dataframe tbody tr th {\n",
              "        vertical-align: top;\n",
              "    }\n",
              "\n",
              "    .dataframe thead th {\n",
              "        text-align: right;\n",
              "    }\n",
              "</style>\n",
              "<table border=\"1\" class=\"dataframe\">\n",
              "  <thead>\n",
              "    <tr style=\"text-align: right;\">\n",
              "      <th></th>\n",
              "      <th>model</th>\n",
              "      <th>task</th>\n",
              "      <th>config</th>\n",
              "      <th>acc_cot</th>\n",
              "      <th>acc_base</th>\n",
              "      <th>delta_abs</th>\n",
              "      <th>delta_rel</th>\n",
              "      <th>cot_chain</th>\n",
              "      <th>best_of</th>\n",
              "      <th>temperature</th>\n",
              "      <th>top_k</th>\n",
              "      <th>top_p</th>\n",
              "      <th>use_beam_search</th>\n",
              "      <th>decoding</th>\n",
              "    </tr>\n",
              "  </thead>\n",
              "  <tbody>\n",
              "    <tr>\n",
              "      <th>0</th>\n",
              "      <td>01-ai/Yi-6B</td>\n",
              "      <td>logiqa</td>\n",
              "      <td>accusantium-inventore</td>\n",
              "      <td>0.327476</td>\n",
              "      <td>0.301917</td>\n",
              "      <td>0.025559</td>\n",
              "      <td>0.084656</td>\n",
              "      <td>HandsOn</td>\n",
              "      <td>1</td>\n",
              "      <td>0</td>\n",
              "      <td>-1</td>\n",
              "      <td>1.0</td>\n",
              "      <td>false</td>\n",
              "      <td>T:0-BS:false</td>\n",
              "    </tr>\n",
              "    <tr>\n",
              "      <th>1</th>\n",
              "      <td>01-ai/Yi-6B</td>\n",
              "      <td>logiqa</td>\n",
              "      <td>amet-ullam</td>\n",
              "      <td>0.292332</td>\n",
              "      <td>0.284345</td>\n",
              "      <td>0.007987</td>\n",
              "      <td>0.028090</td>\n",
              "      <td>ReflectBeforeRun</td>\n",
              "      <td>2</td>\n",
              "      <td>0</td>\n",
              "      <td>-1</td>\n",
              "      <td>1.0</td>\n",
              "      <td>true</td>\n",
              "      <td>T:0-BS:true</td>\n",
              "    </tr>\n",
              "    <tr>\n",
              "      <th>2</th>\n",
              "      <td>01-ai/Yi-6B</td>\n",
              "      <td>logiqa</td>\n",
              "      <td>illum-eaque</td>\n",
              "      <td>0.292332</td>\n",
              "      <td>0.271565</td>\n",
              "      <td>0.020767</td>\n",
              "      <td>0.076471</td>\n",
              "      <td>ReflectBeforeRun</td>\n",
              "      <td>1</td>\n",
              "      <td>0.3</td>\n",
              "      <td>100</td>\n",
              "      <td>0.95</td>\n",
              "      <td>false</td>\n",
              "      <td>T:0.3-BS:false</td>\n",
              "    </tr>\n",
              "    <tr>\n",
              "      <th>3</th>\n",
              "      <td>01-ai/Yi-6B</td>\n",
              "      <td>logiqa</td>\n",
              "      <td>libero-exercitationem</td>\n",
              "      <td>0.321086</td>\n",
              "      <td>0.300319</td>\n",
              "      <td>0.020767</td>\n",
              "      <td>0.069149</td>\n",
              "      <td>HandsOn</td>\n",
              "      <td>2</td>\n",
              "      <td>0</td>\n",
              "      <td>-1</td>\n",
              "      <td>1.0</td>\n",
              "      <td>true</td>\n",
              "      <td>T:0-BS:true</td>\n",
              "    </tr>\n",
              "    <tr>\n",
              "      <th>4</th>\n",
              "      <td>01-ai/Yi-6B</td>\n",
              "      <td>logiqa</td>\n",
              "      <td>magnam-eius</td>\n",
              "      <td>0.290735</td>\n",
              "      <td>0.265176</td>\n",
              "      <td>0.025559</td>\n",
              "      <td>0.096386</td>\n",
              "      <td>HandsOn</td>\n",
              "      <td>1</td>\n",
              "      <td>0.3</td>\n",
              "      <td>100</td>\n",
              "      <td>0.95</td>\n",
              "      <td>false</td>\n",
              "      <td>T:0.3-BS:false</td>\n",
              "    </tr>\n",
              "  </tbody>\n",
              "</table>\n",
              "</div>\n",
              "    <div class=\"colab-df-buttons\">\n",
              "\n",
              "  <div class=\"colab-df-container\">\n",
              "    <button class=\"colab-df-convert\" onclick=\"convertToInteractive('df-955a02bf-89ec-4c12-a691-197d027beca2')\"\n",
              "            title=\"Convert this dataframe to an interactive table.\"\n",
              "            style=\"display:none;\">\n",
              "\n",
              "  <svg xmlns=\"http://www.w3.org/2000/svg\" height=\"24px\" viewBox=\"0 -960 960 960\">\n",
              "    <path d=\"M120-120v-720h720v720H120Zm60-500h600v-160H180v160Zm220 220h160v-160H400v160Zm0 220h160v-160H400v160ZM180-400h160v-160H180v160Zm440 0h160v-160H620v160ZM180-180h160v-160H180v160Zm440 0h160v-160H620v160Z\"/>\n",
              "  </svg>\n",
              "    </button>\n",
              "\n",
              "  <style>\n",
              "    .colab-df-container {\n",
              "      display:flex;\n",
              "      gap: 12px;\n",
              "    }\n",
              "\n",
              "    .colab-df-convert {\n",
              "      background-color: #E8F0FE;\n",
              "      border: none;\n",
              "      border-radius: 50%;\n",
              "      cursor: pointer;\n",
              "      display: none;\n",
              "      fill: #1967D2;\n",
              "      height: 32px;\n",
              "      padding: 0 0 0 0;\n",
              "      width: 32px;\n",
              "    }\n",
              "\n",
              "    .colab-df-convert:hover {\n",
              "      background-color: #E2EBFA;\n",
              "      box-shadow: 0px 1px 2px rgba(60, 64, 67, 0.3), 0px 1px 3px 1px rgba(60, 64, 67, 0.15);\n",
              "      fill: #174EA6;\n",
              "    }\n",
              "\n",
              "    .colab-df-buttons div {\n",
              "      margin-bottom: 4px;\n",
              "    }\n",
              "\n",
              "    [theme=dark] .colab-df-convert {\n",
              "      background-color: #3B4455;\n",
              "      fill: #D2E3FC;\n",
              "    }\n",
              "\n",
              "    [theme=dark] .colab-df-convert:hover {\n",
              "      background-color: #434B5C;\n",
              "      box-shadow: 0px 1px 3px 1px rgba(0, 0, 0, 0.15);\n",
              "      filter: drop-shadow(0px 1px 2px rgba(0, 0, 0, 0.3));\n",
              "      fill: #FFFFFF;\n",
              "    }\n",
              "  </style>\n",
              "\n",
              "    <script>\n",
              "      const buttonEl =\n",
              "        document.querySelector('#df-955a02bf-89ec-4c12-a691-197d027beca2 button.colab-df-convert');\n",
              "      buttonEl.style.display =\n",
              "        google.colab.kernel.accessAllowed ? 'block' : 'none';\n",
              "\n",
              "      async function convertToInteractive(key) {\n",
              "        const element = document.querySelector('#df-955a02bf-89ec-4c12-a691-197d027beca2');\n",
              "        const dataTable =\n",
              "          await google.colab.kernel.invokeFunction('convertToInteractive',\n",
              "                                                    [key], {});\n",
              "        if (!dataTable) return;\n",
              "\n",
              "        const docLinkHtml = 'Like what you see? Visit the ' +\n",
              "          '<a target=\"_blank\" href=https://colab.research.google.com/notebooks/data_table.ipynb>data table notebook</a>'\n",
              "          + ' to learn more about interactive tables.';\n",
              "        element.innerHTML = '';\n",
              "        dataTable['output_type'] = 'display_data';\n",
              "        await google.colab.output.renderOutput(dataTable, element);\n",
              "        const docLink = document.createElement('div');\n",
              "        docLink.innerHTML = docLinkHtml;\n",
              "        element.appendChild(docLink);\n",
              "      }\n",
              "    </script>\n",
              "  </div>\n",
              "\n",
              "\n",
              "<div id=\"df-c567c818-11f2-417f-9001-2b9d17b60596\">\n",
              "  <button class=\"colab-df-quickchart\" onclick=\"quickchart('df-c567c818-11f2-417f-9001-2b9d17b60596')\"\n",
              "            title=\"Suggest charts\"\n",
              "            style=\"display:none;\">\n",
              "\n",
              "<svg xmlns=\"http://www.w3.org/2000/svg\" height=\"24px\"viewBox=\"0 0 24 24\"\n",
              "     width=\"24px\">\n",
              "    <g>\n",
              "        <path d=\"M19 3H5c-1.1 0-2 .9-2 2v14c0 1.1.9 2 2 2h14c1.1 0 2-.9 2-2V5c0-1.1-.9-2-2-2zM9 17H7v-7h2v7zm4 0h-2V7h2v10zm4 0h-2v-4h2v4z\"/>\n",
              "    </g>\n",
              "</svg>\n",
              "  </button>\n",
              "\n",
              "<style>\n",
              "  .colab-df-quickchart {\n",
              "      --bg-color: #E8F0FE;\n",
              "      --fill-color: #1967D2;\n",
              "      --hover-bg-color: #E2EBFA;\n",
              "      --hover-fill-color: #174EA6;\n",
              "      --disabled-fill-color: #AAA;\n",
              "      --disabled-bg-color: #DDD;\n",
              "  }\n",
              "\n",
              "  [theme=dark] .colab-df-quickchart {\n",
              "      --bg-color: #3B4455;\n",
              "      --fill-color: #D2E3FC;\n",
              "      --hover-bg-color: #434B5C;\n",
              "      --hover-fill-color: #FFFFFF;\n",
              "      --disabled-bg-color: #3B4455;\n",
              "      --disabled-fill-color: #666;\n",
              "  }\n",
              "\n",
              "  .colab-df-quickchart {\n",
              "    background-color: var(--bg-color);\n",
              "    border: none;\n",
              "    border-radius: 50%;\n",
              "    cursor: pointer;\n",
              "    display: none;\n",
              "    fill: var(--fill-color);\n",
              "    height: 32px;\n",
              "    padding: 0;\n",
              "    width: 32px;\n",
              "  }\n",
              "\n",
              "  .colab-df-quickchart:hover {\n",
              "    background-color: var(--hover-bg-color);\n",
              "    box-shadow: 0 1px 2px rgba(60, 64, 67, 0.3), 0 1px 3px 1px rgba(60, 64, 67, 0.15);\n",
              "    fill: var(--button-hover-fill-color);\n",
              "  }\n",
              "\n",
              "  .colab-df-quickchart-complete:disabled,\n",
              "  .colab-df-quickchart-complete:disabled:hover {\n",
              "    background-color: var(--disabled-bg-color);\n",
              "    fill: var(--disabled-fill-color);\n",
              "    box-shadow: none;\n",
              "  }\n",
              "\n",
              "  .colab-df-spinner {\n",
              "    border: 2px solid var(--fill-color);\n",
              "    border-color: transparent;\n",
              "    border-bottom-color: var(--fill-color);\n",
              "    animation:\n",
              "      spin 1s steps(1) infinite;\n",
              "  }\n",
              "\n",
              "  @keyframes spin {\n",
              "    0% {\n",
              "      border-color: transparent;\n",
              "      border-bottom-color: var(--fill-color);\n",
              "      border-left-color: var(--fill-color);\n",
              "    }\n",
              "    20% {\n",
              "      border-color: transparent;\n",
              "      border-left-color: var(--fill-color);\n",
              "      border-top-color: var(--fill-color);\n",
              "    }\n",
              "    30% {\n",
              "      border-color: transparent;\n",
              "      border-left-color: var(--fill-color);\n",
              "      border-top-color: var(--fill-color);\n",
              "      border-right-color: var(--fill-color);\n",
              "    }\n",
              "    40% {\n",
              "      border-color: transparent;\n",
              "      border-right-color: var(--fill-color);\n",
              "      border-top-color: var(--fill-color);\n",
              "    }\n",
              "    60% {\n",
              "      border-color: transparent;\n",
              "      border-right-color: var(--fill-color);\n",
              "    }\n",
              "    80% {\n",
              "      border-color: transparent;\n",
              "      border-right-color: var(--fill-color);\n",
              "      border-bottom-color: var(--fill-color);\n",
              "    }\n",
              "    90% {\n",
              "      border-color: transparent;\n",
              "      border-bottom-color: var(--fill-color);\n",
              "    }\n",
              "  }\n",
              "</style>\n",
              "\n",
              "  <script>\n",
              "    async function quickchart(key) {\n",
              "      const quickchartButtonEl =\n",
              "        document.querySelector('#' + key + ' button');\n",
              "      quickchartButtonEl.disabled = true;  // To prevent multiple clicks.\n",
              "      quickchartButtonEl.classList.add('colab-df-spinner');\n",
              "      try {\n",
              "        const charts = await google.colab.kernel.invokeFunction(\n",
              "            'suggestCharts', [key], {});\n",
              "      } catch (error) {\n",
              "        console.error('Error during call to suggestCharts:', error);\n",
              "      }\n",
              "      quickchartButtonEl.classList.remove('colab-df-spinner');\n",
              "      quickchartButtonEl.classList.add('colab-df-quickchart-complete');\n",
              "    }\n",
              "    (() => {\n",
              "      let quickchartButtonEl =\n",
              "        document.querySelector('#df-c567c818-11f2-417f-9001-2b9d17b60596 button');\n",
              "      quickchartButtonEl.style.display =\n",
              "        google.colab.kernel.accessAllowed ? 'block' : 'none';\n",
              "    })();\n",
              "  </script>\n",
              "</div>\n",
              "    </div>\n",
              "  </div>\n"
            ]
          },
          "metadata": {},
          "execution_count": 19
        }
      ]
    },
    {
      "cell_type": "markdown",
      "source": [
        "## Exploration"
      ],
      "metadata": {
        "id": "G_lyFi64BXjd"
      }
    },
    {
      "cell_type": "markdown",
      "source": [
        "#### CoT Accuracy Gains for Models and Tasks\n",
        "\n",
        "(Averaged over all regimes.)"
      ],
      "metadata": {
        "id": "mKfMOI4TV9bl"
      }
    },
    {
      "cell_type": "code",
      "source": [
        "import seaborn as sns\n",
        "\n",
        "sns.set_style(\"whitegrid\")\n",
        "\n",
        "sns.catplot(data=df_cot, hue=\"task\", y=\"model\", x=\"delta_abs\", kind=\"bar\", errorbar=(\"pi\", 100))"
      ],
      "metadata": {
        "colab": {
          "base_uri": "https://localhost:8080/",
          "height": 523
        },
        "id": "0XTCX3ll3Vb8",
        "outputId": "4cdc220f-84eb-44e8-fad8-9e6dafc12843"
      },
      "execution_count": 20,
      "outputs": [
        {
          "output_type": "execute_result",
          "data": {
            "text/plain": [
              "<seaborn.axisgrid.FacetGrid at 0x7e34a34d28f0>"
            ]
          },
          "metadata": {},
          "execution_count": 20
        },
        {
          "output_type": "display_data",
          "data": {
            "text/plain": [
              "<Figure size 601.375x500 with 1 Axes>"
            ],
            "image/png": "[encoded data removed]"
          },
          "metadata": {}
        }
      ]
    },
    {
      "cell_type": "markdown",
      "source": [
        "#### CoT Accuracy Gains as a Function of Base Accuracy"
      ],
      "metadata": {
        "id": "VcsQSTJpWI4_"
      }
    },
    {
      "cell_type": "code",
      "source": [
        "sns.relplot(data=df_cot, col=\"task\", hue=\"task\", style=\"model\", y=\"delta_abs\", x=\"acc_base\", kind=\"scatter\")"
      ],
      "metadata": {
        "colab": {
          "base_uri": "https://localhost:8080/",
          "height": 186
        },
        "id": "m20NYbDL4F5z",
        "outputId": "9f9c0214-a0c3-42a6-d1ef-33614e9ce5e2"
      },
      "execution_count": 23,
      "outputs": [
        {
          "output_type": "execute_result",
          "data": {
            "text/plain": [
              "<seaborn.axisgrid.FacetGrid at 0x7e3490a4c790>"
            ]
          },
          "metadata": {},
          "execution_count": 23
        },
        {
          "output_type": "display_data",
          "data": {
            "text/plain": [
              "<Figure size 2777.88x500 with 5 Axes>"
            ],
            "image/png": "[encoded data removed]"
          },
          "metadata": {}
        }
      ]
    },
    {
      "cell_type": "markdown",
      "source": [
        "#### CoT Accuracy Gains as a Function of Reasoning Regime\n",
        "\n",
        "(Averaged over all models.)"
      ],
      "metadata": {
        "id": "mRh02nxpWQ5k"
      }
    },
    {
      "cell_type": "code",
      "source": [
        "sns.catplot(data=df_cot, hue=\"task\", y=\"decoding\", x=\"delta_abs\", kind=\"bar\", errorbar=(\"pi\", 100), col=\"cot_chain\")"
      ],
      "metadata": {
        "colab": {
          "base_uri": "https://localhost:8080/",
          "height": 421
        },
        "id": "9VoxwsulSR-c",
        "outputId": "209a9ae2-2c7d-4865-f752-efeb4b207572"
      },
      "execution_count": 24,
      "outputs": [
        {
          "output_type": "execute_result",
          "data": {
            "text/plain": [
              "<seaborn.axisgrid.FacetGrid at 0x7e349075e290>"
            ]
          },
          "metadata": {},
          "execution_count": 24
        },
        {
          "output_type": "display_data",
          "data": {
            "text/plain": [
              "<Figure size 1101.38x500 with 2 Axes>"
            ],
            "image/png": "[encoded data removed]"
          },
          "metadata": {}
        }
      ]
    },
    {
      "cell_type": "code",
      "source": [],
      "metadata": {
        "id": "DqI1I_A-Tqtf"
      },
      "execution_count": null,
      "outputs": []
    },
    {
      "cell_type": "code",
      "source": [],
      "metadata": {
        "id": "FZ-OaD_AVEDX"
      },
      "execution_count": null,
      "outputs": []
    }
  ]
}